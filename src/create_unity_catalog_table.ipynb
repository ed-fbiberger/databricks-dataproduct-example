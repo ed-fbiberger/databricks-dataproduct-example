{
 "cells": [
  {
   "cell_type": "markdown",
   "id": "f446fad4ff918bd9",
   "metadata": {
    "collapsed": false
   },
   "source": [
    "# Create Output Port Table in Unity Catalog\n",
    "\n",
    "This notebook uses the datacontract.yaml to export a CREATE TABLE SQL-statement from the defined model.\n",
    "Then it actually creates the table in unity catalog."
   ]
  },
  {
   "cell_type": "code",
   "execution_count": null,
   "id": "3841621f6d140b9a",
   "metadata": {
    "collapsed": false
   },
   "outputs": [],
   "source": [
    "def get_absolute_path(*relative_parts):\n",
    "    import os\n",
    "    if 'dbutils' in globals():\n",
    "        # dbutils is available to the entry point when run in Databricks\n",
    "        base_dir = os.path.dirname(dbutils.notebook.entry_point.getDbutils().notebook().getContext().notebookPath().get()) # type: ignore\n",
    "        path = os.path.normpath(os.path.join(base_dir, *relative_parts))\n",
    "        return path if path.startswith(\"/Workspace\") else \"/Workspace\" + path\n",
    "    else:\n",
    "        return os.path.join(*relative_parts)\n"
   ]
  },
  {
   "cell_type": "markdown",
   "id": "5635e64a2227762e",
   "metadata": {
    "collapsed": false
   },
   "source": [
    "## Export Data Contract as SQL\n",
    "Generate the CREATE TABLE STATEMENT"
   ]
  },
  {
   "cell_type": "code",
   "execution_count": 4,
   "id": "f6a2cf7bf2b94650",
   "metadata": {
    "ExecuteTime": {
     "end_time": "2024-04-03T16:38:08.139422Z",
     "start_time": "2024-04-03T16:38:08.111777Z"
    },
    "collapsed": false
   },
   "outputs": [
    {
     "ename": "KeyError",
     "evalue": "'dbutils'",
     "output_type": "error",
     "traceback": [
      "\u001b[0;31m---------------------------------------------------------------------------\u001b[0m",
      "\u001b[0;31mKeyError\u001b[0m                                  Traceback (most recent call last)",
      "Cell \u001b[0;32mIn[4], line 5\u001b[0m\n\u001b[1;32m      1\u001b[0m \u001b[38;5;28;01mfrom\u001b[39;00m \u001b[38;5;21;01mdatacontract\u001b[39;00m\u001b[38;5;21;01m.\u001b[39;00m\u001b[38;5;21;01mdata_contract\u001b[39;00m \u001b[38;5;28;01mimport\u001b[39;00m DataContract\n\u001b[1;32m      2\u001b[0m \u001b[38;5;28;01mfrom\u001b[39;00m \u001b[38;5;21;01mhelpers\u001b[39;00m\u001b[38;5;21;01m.\u001b[39;00m\u001b[38;5;21;01mpaths\u001b[39;00m \u001b[38;5;28;01mimport\u001b[39;00m get_absolute_path\n\u001b[0;32m----> 5\u001b[0m data_contract_file \u001b[38;5;241m=\u001b[39m get_absolute_path(\u001b[38;5;28;43mglobals\u001b[39;49m\u001b[43m(\u001b[49m\u001b[43m)\u001b[49m\u001b[43m[\u001b[49m\u001b[38;5;124;43m'\u001b[39;49m\u001b[38;5;124;43mdbutils\u001b[39;49m\u001b[38;5;124;43m'\u001b[39;49m\u001b[43m]\u001b[49m, \u001b[38;5;124m\"\u001b[39m\u001b[38;5;124m..\u001b[39m\u001b[38;5;124m\"\u001b[39m, \u001b[38;5;124m\"\u001b[39m\u001b[38;5;124mdatacontract.yaml\u001b[39m\u001b[38;5;124m\"\u001b[39m)\n\u001b[1;32m      6\u001b[0m data_contract \u001b[38;5;241m=\u001b[39m DataContract(data_contract_file\u001b[38;5;241m=\u001b[39mdata_contract_file)\n\u001b[1;32m      7\u001b[0m sql_ddl \u001b[38;5;241m=\u001b[39m data_contract\u001b[38;5;241m.\u001b[39mexport(export_format\u001b[38;5;241m=\u001b[39m\u001b[38;5;124m\"\u001b[39m\u001b[38;5;124msql\u001b[39m\u001b[38;5;124m\"\u001b[39m)\n",
      "\u001b[0;31mKeyError\u001b[0m: 'dbutils'"
     ]
    }
   ],
   "source": [
    "from datacontract.data_contract import DataContract\n",
    "   \n",
    "data_contract_file = get_absolute_path(\"..\", \"datacontract.yaml\")\n",
    "data_contract = DataContract(data_contract_file=data_contract_file)\n",
    "sql_ddl = data_contract.export(export_format=\"sql\")\n",
    "print(sql_ddl)"
   ]
  },
  {
   "cell_type": "markdown",
   "id": "7312a0de52ab2ff0",
   "metadata": {
    "collapsed": false
   },
   "source": [
    "## Create Unity Catalog table\n",
    "\n",
    "The Data Catalog _acme_ must exist."
   ]
  },
  {
   "cell_type": "code",
   "execution_count": null,
   "id": "67ec7a1aa3433318",
   "metadata": {
    "ExecuteTime": {
     "start_time": "2024-04-03T16:38:08.136997Z"
    },
    "collapsed": false
   },
   "outputs": [],
   "source": [
    "from helpers.spark import get_spark\n",
    "\n",
    "# Ensure the schema exists\n",
    "get_spark().sql(\"CREATE SCHEMA IF NOT EXISTS acme.stock_last_sales\")\n",
    "\n",
    "# Create the table in Unity Catalog\n",
    "get_spark().sql(sql_ddl)"
   ]
  }
 ],
 "metadata": {
  "kernelspec": {
   "display_name": "Python 3",
   "language": "python",
   "name": "python3"
  },
  "language_info": {
   "codemirror_mode": {
    "name": "ipython",
    "version": 2
   },
   "file_extension": ".py",
   "mimetype": "text/x-python",
   "name": "python",
   "nbconvert_exporter": "python",
   "pygments_lexer": "ipython2",
   "version": "2.7.6"
  }
 },
 "nbformat": 4,
 "nbformat_minor": 5
}
